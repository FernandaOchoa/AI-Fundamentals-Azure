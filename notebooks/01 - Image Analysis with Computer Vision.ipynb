{
  "cells": [
    {
      "cell_type": "markdown",
      "source": [
        "# Análisis de imagen con el servicio Computer Vision\r\n",
        "\r\n",
        "![Un robot sujetando una fotografía](./images/computer_vision.jpg)\r\n",
        "\r\n",
        "*Computer Vision* forma parte de la inteligencia artificial y explora el desarrollo de sistemas de IA que pueden “ver” el mundo, ya sea en tiempo real mediante una cámara o mediante el análisis de archivos de imágenes y vídeos. Esto es posible gracias a que las imágenes digitales son, básicamente, un conjunto de valores numéricos de píxeles que podemos usar como *características* para entrenar modelos de aprendizaje automático que puedan clasificar imágenes, detectar determinados objetos en una imagen e incluso generar resúmenes textuales sobre las fotografías.\r\n",
        "\r\n",
        "## Usar Computer Vision, de Cognitive Services\r\n",
        "\r\n",
        "Microsoft Azure incluye los conocidos como *Cognitive Services*, entre los que encontramos funciones habituales de IA, incluidas algunas que pueden ayudar a crear soluciones de Computer Vision.\r\n",
        "\r\n",
        "*Computer Vision* es un punto de inicio natural de nuestra explicación de Computer Vision en Azure. Utiliza modelos de aprendizaje automático entrenados previamente para analizar imágenes y extraer información sobre ellas.\r\n",
        "\r\n",
        "Por ejemplo, supongamos que la empresa Northwind Traders ha decidido implementar una tienda inteligente, en la que los servicios de IA supervisan la tienda para identificar a los clientes que necesiten ayuda y avisar a los empleados para que los ayuden. Gracias al servicio Computer Vision, las imágenes de las cámaras de la tienda se pueden analizar para proporcionar descripciones acertadas sobre lo que aparece en ellas.\r\n",
        "\r\n",
        "### Crear un recurso de Cognitive Services\r\n",
        "\r\n",
        "Para empezar, cree un recurso de **Cognitive Services** en su suscripción de Azure:\r\n",
        "\r\n",
        "1. En la pestaña de otro explorador, abra Azure Portal (https://portal.azure.com) e inicie sesión con su cuenta de Microsoft.\r\n",
        "2. Haga clic en el botón **&#65291;Crear un recurso**, busque *Cognitive Services* y cree un recurso de **Cognitive Services** con esta configuración:\r\n",
        "    - **Suscripción**: *su suscripción de Azure*.\r\n",
        "    - **Grupo de recursos**: *seleccione o cree un grupo de recursos con un nombre único.*\r\n",
        "    - **Región**: *seleccione cualquier región disponible*:\r\n",
        "    - **Nombre**: *escriba un nombre único*.\r\n",
        "    - **Plan de tarifa**: S0\r\n",
        "    - **Confirmo que he leído y comprendido las notificaciones**: seleccionado.\r\n",
        "3. Espere a que la implementación finalice. Vaya al recurso de Cognitive Services y, en la página **Información general**, haga clic en el vínculo para administrar las claves del servicio. Necesitará el punto de conexión y las claves para conectarse a su recurso de Cognitive Services desde aplicaciones de cliente.\r\n",
        "\r\n",
        "### Obtener la clave y el punto de conexión de un recurso de Cognitive Services\r\n",
        "\r\n",
        "Para usar su recurso de Cognitive Services, las aplicaciones de cliente necesitan su clave de autenticación y su punto de conexión:\r\n",
        "\r\n",
        "1. En Azure Portal, en la página **Claves y punto de conexión** de su recurso de Cognitive Services, copie la **Key1** de su recurso y péguela en el siguiente código, en sustitución de **YOUR_COG_KEY**.\r\n",
        "2. Copie el **Punto de conexión** de su recurso y péguelo en el siguiente código, en sustitución de **YOUR_COG_ENDPOINT**.\r\n",
        "3. Seleccione la celda siguiente y haga clic en **Run cell** (&#9655;), a la izquierda de la celda, para ejecutar su código."
      ],
      "metadata": {}
    },
    {
      "cell_type": "code",
      "source": [
        "cog_key = 'YOUR_COG_KEY'\n",
        "cog_endpoint = 'YOUR_COG_ENDPOINT'\n",
        "\n",
        "print('Ready to use cognitive services at {} using key {}'.format(cog_endpoint, cog_key))"
      ],
      "outputs": [],
      "execution_count": null,
      "metadata": {
        "gather": {
          "logged": 1599691487445
        }
      }
    },
    {
      "cell_type": "markdown",
      "source": [
        "Ahora que ha configurado la clave y el punto de conexión, puede usar el servicio Computer Vision para analizar una imagen.\r\n",
        "\r\n",
        "Ejecute la siguiente celda para obtener una descripción de una imagen en el archivo */data/vision/store_cam1.jpg*."
      ],
      "metadata": {}
    },
    {
      "cell_type": "code",
      "source": [
        "from azure.cognitiveservices.vision.computervision import ComputerVisionClient\n",
        "from msrest.authentication import CognitiveServicesCredentials\n",
        "from python_code import vision\n",
        "import os\n",
        "%matplotlib inline\n",
        "\n",
        "# Obtener la ruta de un archivo de imagen\r\n",
        "image_path = os.path.join('data', 'vision', 'store_cam1.jpg')\n",
        "\n",
        "# Obtener un cliente del servicio Computer Vision\r\n",
        "computervision_client = ComputerVisionClient(cog_endpoint, CognitiveServicesCredentials(cog_key))\n",
        "\n",
        "# Obtener una descripción del servicio Computer Vision\r\n",
        "image_stream = open(image_path, \"rb\")\n",
        "description = computervision_client.describe_image_in_stream(image_stream)\n",
        "\n",
        "# Mostrar una imagen y un subtítulo (código en helper_scripts/vision.py)\r\n",
        "vision.show_image_caption(image_path, description)\n"
      ],
      "outputs": [],
      "execution_count": null,
      "metadata": {
        "gather": {
          "logged": 1599691518279
        }
      }
    },
    {
      "cell_type": "markdown",
      "source": [
        "Parece bastante acertado.\r\n",
        "\r\n",
        "Vamos a probar con otra imagen."
      ],
      "metadata": {}
    },
    {
      "cell_type": "code",
      "source": [
        "# Obtener la ruta de un archivo de imagen\r\n",
        "image_path = os.path.join('data', 'vision', 'store_cam2.jpg')\n",
        "\n",
        "# Obtener una descripción del servicio Computer Vision\r\n",
        "image_stream = open(image_path, \"rb\")\n",
        "description = computervision_client.describe_image_in_stream(image_stream)\n",
        "\n",
        "# Mostrar una imagen y un subtítulo (código en helper_scripts/vision.py)\r\n",
        "vision.show_image_caption(image_path, description)"
      ],
      "outputs": [],
      "execution_count": null,
      "metadata": {
        "gather": {
          "logged": 1599691524330
        }
      }
    },
    {
      "cell_type": "markdown",
      "source": [
        "Parece que la información sigue siendo precisa.\r\n",
        "\r\n",
        "## Analizar características de una imagen\r\n",
        "\r\n",
        "Hasta ahora, hemos usado Computer Vision para generar una descripción de algunas imágenes. Podemos ir mucho más allá. El servicio Computer Vision incluye capacidades de análisis que pueden extraer información detallada como esta:\r\n",
        "\r\n",
        "- Las ubicaciones de tipos habituales de objetos detectados en la imagen.\r\n",
        "- La ubicación y edad aproximada de las caras humanas de la imagen.\r\n",
        "- Si la imagen incluye contenido adulto, racista o inapropiado.\r\n",
        "- Etiquetas relevantes que se pueden asociar con la imagen en una base de datos para que sea más fácil encontrarla.\r\n",
        "\r\n",
        "Ejecute el siguiente código para analizar la imagen de un cliente."
      ],
      "metadata": {}
    },
    {
      "cell_type": "code",
      "source": [
        "# Obtener la ruta de un archivo de imagen\r\n",
        "image_path = os.path.join('data', 'vision', 'store_cam1.jpg')\n",
        "\n",
        "# Indicar las características que se quieren analizar\r\n",
        "features = ['Description', 'Tags', 'Adult', 'Objects', 'Faces']\n",
        "\n",
        "# Obtener un análisis del servicio Computer Vision\r\n",
        "image_stream = open(image_path, \"rb\")\n",
        "analysis = computervision_client.analyze_image_in_stream(image_stream, visual_features=features)\n",
        "\n",
        "# Mostrar los resultados del análisis (código en helper_scripts/vision.py)\r\n",
        "vision.show_image_analysis(image_path, analysis)"
      ],
      "outputs": [],
      "execution_count": null,
      "metadata": {
        "gather": {
          "logged": 1599691530747
        }
      }
    },
    {
      "cell_type": "markdown",
      "source": [
        "## Más información\r\n",
        "\r\n",
        "Además de las capacidades tratadas en este cuaderno, Computer Vision incluye la capacidad para lo siguiente:\r\n",
        "\r\n",
        "- Identificar personas famosas en imágenes.\r\n",
        "- Detectar logos de marcas en una imagen.\r\n",
        "- Usar reconocimiento óptico de caracteres (OCR) para leer el texto de una imagen.\r\n",
        "\r\n",
        "Para más información sobre el servicio Computer Vision, de Cognitive Services, consulte la [documentación de Computer Vision](https://docs.microsoft.com/azure/cognitive-services/computer-vision/).\r\n"
      ],
      "metadata": {}
    }
  ],
  "metadata": {
    "language_info": {
      "name": "python",
      "version": "3.6.9",
      "mimetype": "text/x-python",
      "codemirror_mode": {
        "name": "ipython",
        "version": 3
      },
      "pygments_lexer": "ipython3",
      "nbconvert_exporter": "python",
      "file_extension": ".py"
    },
    "kernelspec": {
      "name": "python3-azureml",
      "language": "python",
      "display_name": "Python 3.6 - AzureML"
    },
    "kernel_info": {
      "name": "python3-azureml"
    },
    "nteract": {
      "version": "nteract-front-end@1.0.0"
    }
  },
  "nbformat": 4,
  "nbformat_minor": 2
}