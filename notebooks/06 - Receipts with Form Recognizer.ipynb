{
  "cells": [
    {
      "cell_type": "markdown",
      "source": [
        "# Analizar recibos con Form Recognizer\r\n",
        "\r\n",
        "![Un robot sujetando un recibo](./images/receipt_analysis.jpg)\r\n",
        "\r\n",
        "En el campo de inteligencia artificial de Computer Vision, el reconocimiento óptico de caracteres (OCR) se suele usar para leer documentos impresos o escritos a mano. A menudo, el texto se extrae de los documentos en un formato que se puede procesar o analizar.\r\n",
        "\r\n",
        "Un caso más avanzado del uso de un OCR sería la extracción de información de formularios, como pedidos o facturas, con una comprensión semántica del significado de los campos del formulario. El servicio **Form Recognizer** está diseñado especialmente para este TIPO de situaciones de IA.\r\n",
        "\r\n",
        "## Ver un recibo\r\n",
        "\r\n",
        "En este ejemplo, usará el modelo integrado de Form Recognizer para analizar recibos.\r\n",
        "\r\n",
        "Haga clic en el botón **Run cell** (&#9655;) a la izquierda de la celda siguiente para ejecutarla y ver un ejemplo de un recibo que analizaremos con Form Recognizer."
      ],
      "metadata": {}
    },
    {
      "cell_type": "code",
      "source": [
        "import matplotlib.pyplot as plt\n",
        "from PIL import Image\n",
        "import os\n",
        "%matplotlib inline\n",
        "\n",
        "\n",
        "# Cargar y mostrar una imagen de confirmación\r\n",
        "fig = plt.figure(figsize=(6, 6))\n",
        "image_path = os.path.join('data', 'form-receipt', 'receipt.jpg')\n",
        "img = Image.open(image_path)\n",
        "plt.axis('off')\n",
        "plt.imshow(img)"
      ],
      "outputs": [],
      "execution_count": null,
      "metadata": {
        "gather": {
          "logged": 1599694427893
        }
      }
    },
    {
      "cell_type": "markdown",
      "source": [
        "## Creación de un recurso de Form Recognizer\r\n",
        "\r\n",
        "Cree un recurso de Form Recognizer en su suscripción de Azure:\r\n",
        "\r\n",
        "1. En la pestaña de otro explorador, abra Azure Portal (https://portal.azure.com) e inicie sesión con su cuenta de Microsoft.\r\n",
        "2. Seleccione **+ Crear un recurso** y busque *Form Recognizer*.\r\n",
        "3. En la lista de servicios, seleccione **Form Recognizer**.\r\n",
        "4. En la hoja **Form Recognizer**, seleccione **Crear**.\r\n",
        "5. En la hoja **Crear**, escriba la siguiente información y haga clic en **Crear**.\r\n",
        "   - **Nombre**: un nombre exclusivo para su servicio\r\n",
        "   - **Suscripción**: su suscripción de Azure\r\n",
        "   - **Región**: cualquier región disponible\r\n",
        "   - **Plan de tarifa**: F0\r\n",
        "   - **Grupo de recursos**: el grupo de recursos utilizado anteriormente\r\n",
        "   - **Confirmo que he leído y comprendido la notificación siguiente**: seleccionado.\r\n",
        "6. Espere a que se cree el servicio.\r\n",
        "7. Consulte su nuevo servicio Form Recognizer en Azure Portal. En la página **Keys and Endpoint**, copie los valores de **Key1** y **Endpoint** y péguelos en el siguiente código, en sustitución de **YOUR_FORM_KEY** y **YOUR_FORM_ENDPOINT**."
      ],
      "metadata": {}
    },
    {
      "cell_type": "code",
      "source": [
        "form_key = 'YOUR_FORM_KEY'\n",
        "form_endpoint = 'YOUR_FORM_ENDPOINT'\n",
        "\n",
        "print('Ready to use form recognizer at {} using key {}'.format(form_endpoint, form_key))"
      ],
      "outputs": [],
      "execution_count": null,
      "metadata": {
        "gather": {
          "logged": 1599694505850
        }
      }
    },
    {
      "cell_type": "markdown",
      "source": [
        "## Análisis de un recibo\r\n",
        "\r\n",
        "Ya está listo para usar Form Recognizer para analizar un recibo."
      ],
      "metadata": {}
    },
    {
      "cell_type": "code",
      "source": [
        "import os\n",
        "from azure.ai.formrecognizer import FormRecognizerClient\n",
        "from azure.core.credentials import AzureKeyCredential\n",
        "\n",
        "# Crear un cliente del servicio Form Recognizer\r\n",
        "form_recognizer_client = FormRecognizerClient(endpoint=form_endpoint, credential=AzureKeyCredential(form_key))\n",
        "\n",
        "try:\n",
        "    print(\"Analyzing receipt...\")\n",
        "    # Get the receipt image file\n",
        "    image_path = os.path.join('data', 'form-receipt', 'receipt.jpg')\n",
        "\n",
        "    # Envíe los datos de archivo a Form Recognizer\n",
        "    with open(image_path, \"rb\") as f:\n",
        "        analyze_receipt = form_recognizer_client.begin_recognize_receipts(receipt=f)\n",
        "    \n",
        "    # Obtenga los resultados\n",
        "    receipt_data = analyze_receipt.result()\n",
        "\n",
        "    # Imprima los datos extraídos para el primer (y único) recibo\n",
        "    receipt = receipt_data[0]\n",
        "    receipt_type = receipt.fields.get(\"ReceiptType\")\n",
        "    if receipt_type:\n",
        "        print(\"Receipt Type: {}\".format(receipt_type.value))\n",
        "    merchant_address = receipt.fields.get(\"MerchantAddress\")\n",
        "    if merchant_address:\n",
        "        print(\"Merchant Address: {}\".format(merchant_address.value))\n",
        "    merchant_phone = receipt.fields.get(\"MerchantPhoneNumber\")\n",
        "    if merchant_phone:\n",
        "        print(\"Merchant Phone: {}\".format(merchant_phone.value))\n",
        "    transaction_date = receipt.fields.get(\"TransactionDate\")\n",
        "    if transaction_date:\n",
        "        print(\"Transaction Date: {}\".format(transaction_date.value))\n",
        "    print(\"Receipt items:\")\n",
        "    items = receipt.fields.get(\"Items\")\n",
        "    if items:\n",
        "        for idx, item in enumerate(receipt.fields.get(\"Items\").value):\n",
        "            print(\"\\tItem #{}\".format(idx+1))\n",
        "            item_name = item.value.get(\"Name\")\n",
        "            if item_name:\n",
        "                print(\"\\t - Name: {}\".format(item_name.value))\n",
        "            item_total_price = item.value.get(\"TotalPrice\")\n",
        "            if item_total_price:\n",
        "                print(\"\\t - Price: {}\".format(item_total_price.value))\n",
        "    subtotal = receipt.fields.get(\"Subtotal\")\n",
        "    if subtotal:\n",
        "        print(\"Subtotal: {} \".format(subtotal.value))\n",
        "    tax = receipt.fields.get(\"Tax\")\n",
        "    if tax:\n",
        "        print(\"Tax: {}\".format(tax.value))\n",
        "    total = receipt.fields.get(\"Total\")\n",
        "    if total:\n",
        "        print(\"Total: {}\".format(total.value))\n",
        "\n",
        "except Exception as ex:\n",
        "    print('Error:', ex)\n"
      ],
      "outputs": [],
      "execution_count": null,
      "metadata": {
        "gather": {
          "logged": 1599694525404
        }
      }
    },
    {
      "cell_type": "markdown",
      "source": [
        "Tenga en cuenta que Form Recognizer es capaz de interpretar los datos del formulario, además de identificar correctamente la dirección y número de teléfono del comerciante, la fecha y hora de la transacción, así como los elementos de línea, los subtotales, impuestos y cuantías totales.\r\n",
        "\r\n",
        "## Más información\r\n",
        "\r\n",
        "Para obtener más información sobre el servicio Form Recognizer, consulte la [documentación del servicio Form Recognizer](https://docs.microsoft.com/es-es/azure/cognitive-services/form-recognizer/index)"
      ],
      "metadata": {}
    }
  ],
  "metadata": {
    "language_info": {
      "name": "python",
      "version": "3.6.9",
      "mimetype": "text/x-python",
      "codemirror_mode": {
        "name": "ipython",
        "version": 3
      },
      "pygments_lexer": "ipython3",
      "nbconvert_exporter": "python",
      "file_extension": ".py"
    },
    "kernelspec": {
      "name": "python3-azureml",
      "language": "python",
      "display_name": "Python 3.6 - AzureML"
    },
    "kernel_info": {
      "name": "python3-azureml"
    },
    "nteract": {
      "version": "nteract-front-end@1.0.0"
    }
  },
  "nbformat": 4,
  "nbformat_minor": 2
}