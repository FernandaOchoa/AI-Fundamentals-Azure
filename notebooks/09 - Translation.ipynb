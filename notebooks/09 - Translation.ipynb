{
  "cells": [
    {
      "cell_type": "markdown",
      "source": [
        "# Traducción\r\n",
        "\r\n",
        "Una de las claves detrás del desarrollo de la civilización humana es la capacidad de comunicarse. En la mayoría de las relaciones humanas, la comunicación es esencial.\r\n",
        "\r\n",
        "![Un robot multilingüe](./images/translation.jpg)\r\n",
        "\r\n",
        "La inteligencia artificial (IA) puede simplificar la comunicación gracias a que traduce texto o lenguaje hablado entre diferentes idiomas, lo que ayuda a eliminar las barreras comunicativas entre países y culturas.\r\n",
        "\r\n",
        "## Crear un recurso de Cognitive Services\r\n",
        "\r\n",
        "En Azure, puede usar Cognitive Services para traducir varios idiomas.\r\n",
        "\r\n",
        "Si no tiene uno, siga estos pasos para crear un recurso de **Cognitive Services** en su suscripción de Azure:\r\n",
        "\r\n",
        "> **Nota**: Si ya tiene un recurso de Cognitive Services, abra su página de **Inicio rápido** en Azure Portal y copie la clave y el punto de conexión en la siguiente celda. En caso contrario, siga estos pasos para crear uno.\r\n",
        "\r\n",
        "1. En la pestaña de otro explorador, abra Azure Portal (https://portal.azure.com) e inicie sesión con su cuenta de Microsoft.\r\n",
        "2. Haga clic en el botón **&#65291;Crear un recurso**, busque *Cognitive Services* y cree un recurso de **Cognitive Services** con esta configuración:\r\n",
        "    - **Suscripción**: *su suscripción de Azure*.\r\n",
        "    - **Grupo de recursos**: *seleccione o cree un grupo de recursos con un nombre único.*\r\n",
        "    - **Región**: *seleccione cualquier región disponible*:\r\n",
        "    - **Nombre**: *escriba un nombre único*.\r\n",
        "    - **Plan de tarifa**: S0\r\n",
        "    - **Confirmo que he leído y comprendido las notificaciones**: seleccionado.\r\n",
        "3. Espere a que la implementación finalice. Vaya al recurso de Cognitive Services y, en la página **Información general**, haga clic en el vínculo para administrar las claves del servicio. Necesitará el punto de conexión y las claves para conectarse a su recurso de Cognitive Services desde aplicaciones de cliente.\r\n",
        "\r\n",
        "### Obtener la clave y la ubicación de un recurso de Cognitive Services\r\n",
        "\r\n",
        "Para usar su recurso de Cognitive Services, las aplicaciones de cliente necesitan su clave de autenticación y su ubicación:\r\n",
        "\r\n",
        "1. En Azure Portal, en la página **Claves y punto de conexión** de su recurso de Cognitive Services, copie la **Key1** de su recurso y péguela en el siguiente código, en sustitución de **YOUR_COG_KEY**.\r\n",
        "2. Copie la **Ubicación** de su recurso y péguela en el siguiente código, en sustitución de **YOUR_COG_LOCATION**.\r\n",
        ">**Nota**: Quédese en la página **Claves y punto de conexión** y copie la **Ubicación** desde esta página, (ejemplo: _westus_). No _agregue_ espacios entre las palabras del campo Ubicación. \r\n",
        "3. Ejecute el código siguiente. Para ello, haga clic en **Run cell** (&#9655;) a la izquierda de la celda."
      ],
      "metadata": {}
    },
    {
      "cell_type": "code",
      "source": [
        "cog_key = 'YOUR_COG_KEY'\n",
        "cog_location = 'YOUR_COG_LOCATION'\n",
        "\n",
        "print('Ready to use cognitive services in {} using key {}'.format(cog_location, cog_key))"
      ],
      "outputs": [],
      "execution_count": null,
      "metadata": {
        "gather": {
          "logged": 1599695377020
        }
      }
    },
    {
      "cell_type": "markdown",
      "source": [
        "## Traducir texto\r\n",
        "\r\n",
        "Tal y como indica su nombre, el servicio **Translator Text** permite traducir texto de un idioma a otro.\r\n",
        "\r\n",
        "No hay un SDK de Python para este servicio, pero puede usar su interfaz de REST para enviar solicitudes a un punto de conexión mediante HTTP. Esto es relativamente fácil de hacer en Python con la biblioteca de **solicitudes**. La información sobre el texto que se debe traducir y el texto traducido se intercambia en formato JSON.\r\n",
        "\r\n",
        "Ejecute la siguiente celda para crear una función que permita hacer esto y, después, pruebe la función con una traducción sencilla de inglés a francés."
      ],
      "metadata": {}
    },
    {
      "cell_type": "code",
      "source": [
        "# Crear una función que realice una solicitud de REST al servicio Traducción de texto\r\n",
        "def translate_text(cog_location, cog_key, text, to_lang='fr', from_lang='en'):\n",
        "    import requests, uuid, json\n",
        "\n",
        "    # Cree la dirección URL para la solicitud RES del servicio Translator\n",
        "    path = 'https://api.cognitive.microsofttranslator.com/translate?api-version=3.0'\n",
        "    params = '&from={}&to={}'.format(from_lang, to_lang)\n",
        "    constructed_url = path + params\n",
        "\n",
        "    # Prepare los encabezados de la solicitud con la clave y región del recurso de Cognitive Services\n",
        "    headers = {\n",
        "        'Ocp-Apim-Subscription-Key': cog_key,\n",
        "        'Ocp-Apim-Subscription-Region':cog_location,\n",
        "        'Content-type': 'application/json',\n",
        "        'X-ClientTraceId': str(uuid.uuid4())\n",
        "    }\n",
        "\n",
        "    # Agregue al cuerpo el texto que se debe traducir\n",
        "    body = [{\n",
        "        'text': text\n",
        "    }]\n",
        "\n",
        "    # Obtenga la traducción\n",
        "    request = requests.post(constructed_url, headers=headers, json=body)\n",
        "    response = request.json()\n",
        "    return response[0][\"translations\"][0][\"text\"]\n",
        "\n",
        "\n",
        "# Probar la función\r\n",
        "text_to_translate = \"Hello\"\n",
        "\n",
        "translation = translate_text(cog_location, cog_key, text_to_translate, to_lang='fr', from_lang='en')\n",
        "print('{} -> {}'.format(text_to_translate,translation))"
      ],
      "outputs": [],
      "execution_count": null,
      "metadata": {
        "gather": {
          "logged": 1599695393341
        }
      }
    },
    {
      "cell_type": "markdown",
      "source": [
        "El servicio debe traducir el texto en inglés “Hello” al francés como “Bonjour”.\r\n",
        "\r\n",
        "Tenga en cuenta que los idiomas se indican mediante un sistema estándar de abreviaturas de idiomas, donde *EN* corresponde al inglés y *ES* al español. También puede usar abreviaturas que incluyan culturas específicas, lo que es útil si un mismo idioma se usa en diferentes zonas geográficas, con palabras y ortografías ligeramente distintas. Por ejemplo, *en-US* corresponde al inglés estadounidense, mientras que *en-GB* corresponde al inglés de Reino Unido.\r\n",
        "\r\n",
        "Ejecute la siguiente celda para traducir texto en inglés de Reino Unido a italiano."
      ],
      "metadata": {}
    },
    {
      "cell_type": "code",
      "source": [
        "text_to_translate = \"Hello\"\n",
        "\n",
        "translation = translate_text(cog_location, cog_key, text_to_translate, to_lang='it-IT', from_lang='en-GB')\n",
        "print('{} -> {}'.format(text_to_translate,translation))"
      ],
      "outputs": [],
      "execution_count": null,
      "metadata": {
        "gather": {
          "logged": 1599695400335
        }
      }
    },
    {
      "cell_type": "markdown",
      "source": [
        "Ahora probemos otra traducción, esta vez desde el inglés estadounidense al Chino."
      ],
      "metadata": {}
    },
    {
      "cell_type": "code",
      "source": [
        "text_to_translate = \"Hello\"\n",
        "\n",
        "translation = translate_text(cog_location, cog_key, text_to_translate, to_lang='zh-CN', from_lang='en-US')\n",
        "print('{} -> {}'.format(text_to_translate,translation))"
      ],
      "outputs": [],
      "execution_count": null,
      "metadata": {
        "gather": {
          "logged": 1599695403076
        }
      }
    },
    {
      "cell_type": "markdown",
      "source": [
        "## Speech Translation\r\n",
        "\r\n",
        "Puede usar el servicio **Voz** para traducir idiomas hablados.\r\n",
        "\r\n",
        "Ahora, puede ejecutar la siguiente celda para crear y probar una función que utilice el SDK de Voz para traducir idiomas hablados.\r\n",
        "\r\n",
        "> **Nota**: Necesitará altavoces para escuchar el audio."
      ],
      "metadata": {}
    },
    {
      "cell_type": "code",
      "source": [
        "from playsound import playsound \n",
        "\n",
        "# Crear una función para traducir audio de un idioma a texto en otro idioma\r\n",
        "def translate_speech(cog_location, cog_key, audio_file=None, to_lang='fr-FR', from_lang='en-US'):\n",
        "    from azure.cognitiveservices.speech import SpeechConfig, AudioConfig, ResultReason\n",
        "    from azure.cognitiveservices.speech.translation import SpeechTranslationConfig, TranslationRecognizer\n",
        "\n",
        "    # Configure el servicio Speech Translation\n",
        "    translation_config = SpeechTranslationConfig(subscription=cog_key, region=cog_location)\n",
        "    translation_config.speech_recognition_language = from_lang\n",
        "    translation_config.add_target_language(to_lang)\n",
        "\n",
        "    # Configure la entrada de audio\n",
        "    if audio_file is None:\n",
        "        audio_config = AudioConfig() # Use la entrada predeterminada (micrófono)\n",
        "    else:\n",
        "        audio_config = AudioConfig(filename=audio_file) # Use la entrada de archivo\n",
        "\n",
        "    # Crea un reconocedor de traducción y úselo para traducir la entrada de voz\n",
        "    recognizer = TranslationRecognizer(translation_config, audio_config)\n",
        "    result = recognizer.recognize_once()\n",
        "\n",
        "    # ¿Lo conseguimos?\n",
        "    translation = ''\n",
        "    speech_text = ''\n",
        "    if result.reason == ResultReason.TranslatedSpeech:\n",
        "        speech_text = result.text\n",
        "        translation =  result.translations[to_lang]\n",
        "    elif result.reason == ResultReason.RecognizedSpeech:\n",
        "        speech_text = result.text\n",
        "        translation =  'Unable to translate speech'\n",
        "    else:\n",
        "        translation = 'Unknown'\n",
        "        speech_text = 'Unknown'\n",
        "\n",
        "    # Devuelva la traducción\n",
        "    return speech_text, translation\n",
        "    \n",
        "\n",
        "# Probar la función\r\n",
        "import os\n",
        "\n",
        "file_name = 'english.wav'\n",
        "file_path = os.path.join('data', 'translation', file_name)\n",
        "speech, translated_speech = translate_speech(cog_location, cog_key, file_path, to_lang='es', from_lang='en-US')\n",
        "result = '{} -> {}'.format(speech, translated_speech)\n",
        "\n",
        "# Reproducir el audio y mostrar el texto traducido\r\n",
        "playsound(file_path)\n",
        "print(result)"
      ],
      "outputs": [],
      "execution_count": null,
      "metadata": {
        "gather": {
          "logged": 1599695532629
        }
      }
    },
    {
      "cell_type": "markdown",
      "source": [
        "Tenga en cuenta que el idioma después de “to” se debe indicar con el código de 2 caracteres (como *en*) mientras que el idioma después de “from” debe incluir también el indicador de cultura (como *en-US*).\r\n",
        "\r\n",
        "Vamos a probar una traducción de francés a inglés."
      ],
      "metadata": {}
    },
    {
      "cell_type": "code",
      "source": [
        "from playsound import playsound\n",
        "import os\n",
        "\n",
        "file_name = 'french.wav'\n",
        "file_path = os.path.join('data', 'translation', file_name)\n",
        "speech, translated_speech = translate_speech(cog_location, cog_key, file_path, to_lang='en', from_lang='fr-FR')\n",
        "result = '{} -> {}'.format(speech, translated_speech)\n",
        "\n",
        "# Reproducir el audio y mostrar el texto traducido\r\n",
        "playsound(file_path)\n",
        "print(result)"
      ],
      "outputs": [],
      "execution_count": null,
      "metadata": {
        "gather": {
          "logged": 1599695542192
        }
      }
    },
    {
      "cell_type": "markdown",
      "source": [
        "## Más información\r\n",
        "\r\n",
        "Puede obtener más información sobre el servicio [Translator Text](https://docs.microsoft.com/azure/cognitive-services/translator/) y sobre la [traducción con el servicio Voz](https://docs.microsoft.com/azure/cognitive-services/speech-service/index-speech-translation) en la documentación del servicio."
      ],
      "metadata": {}
    }
  ],
  "metadata": {
    "language_info": {
      "name": "python",
      "version": "3.6.9",
      "mimetype": "text/x-python",
      "codemirror_mode": {
        "name": "ipython",
        "version": 3
      },
      "pygments_lexer": "ipython3",
      "nbconvert_exporter": "python",
      "file_extension": ".py"
    },
    "kernelspec": {
      "name": "python3-azureml",
      "language": "python",
      "display_name": "Python 3.6 - AzureML"
    },
    "kernel_info": {
      "name": "python3-azureml"
    },
    "nteract": {
      "version": "nteract-front-end@1.0.0"
    }
  },
  "nbformat": 4,
  "nbformat_minor": 2
}