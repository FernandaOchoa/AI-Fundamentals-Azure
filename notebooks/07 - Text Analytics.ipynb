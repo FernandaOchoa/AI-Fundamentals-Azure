{
  "cells": [
    {
      "cell_type": "markdown",
      "source": [
        "# Text Analytics\r\n",
        "\r\n",
        "El Procesamiento del lenguaje natural (NLP) es una parte de la inteligencia artificial que engloba el lenguaje escrito y hablado. Puede usar NLP para crear soluciones que extraigan el significado semántico de instrucciones habladas o escritas, o que formulen respuestas adecuadas en lenguaje natural.\r\n",
        "\r\n",
        "Microsoft Azure *Cognitive Services* incluye el servicio *Text Analytics*, que cuenta con algunas funciones de NLP integradas, como la identificación de frases clave en texto y la clasificación de texto según opiniones.\r\n",
        "\r\n",
        "![Un robot leyendo un cuaderno](./images/NLP.jpg)\r\n",
        "\r\n",
        "Por ejemplo, supongamos que la organización ficticia *Margie’s Travel* solicita a los clientes que den su opinión sobre sus estancias en los hoteles. Puede usar el servicio Text Analytics para resumir las reseñas con sus frases clave, determinar qué reseñas son positivas y cuáles negativas o analizar el texto de la reseña en busca de menciones de entidades conocidas, como las ubicaciones o las personas.\r\n",
        "\r\n",
        "## Ver los documentos de reseñas\r\n",
        "\r\n",
        "Empezaremos echando un vistazo a algunas reseñas de clientes sobre hoteles.\r\n",
        "\r\n",
        "Las reseñas se incluyen en archivos de texto. Para verlas, haga clic en **Run cell** (&#9655;) a la izquierda de la celda y ejecute el código siguiente."
      ],
      "metadata": {}
    },
    {
      "cell_type": "code",
      "source": [
        "import os\n",
        "\n",
        "# Leer las reseñas en la carpeta /data/reviews\r\n",
        "reviews_folder = os.path.join('data', 'text', 'reviews')\n",
        "\n",
        "# Crear una recopilación de reseñas con ID (nombre de archivo) y propiedades de texto (contenidos)\r\n",
        "reviews = []\n",
        "for file_name in os.listdir(reviews_folder):\n",
        "    review_text = open(os.path.join(reviews_folder, file_name)).read()\n",
        "    review = {\"id\": file_name, \"text\": review_text}\n",
        "    reviews.append(review)\n",
        "\n",
        "for review_num in range(len(reviews)):\n",
        "    # imprima el texto de reseña\n",
        "    print('{}\\n{}\\n'.format(reviews[review_num]['id'], reviews[review_num]['text']))"
      ],
      "outputs": [],
      "execution_count": null,
      "metadata": {
        "gather": {
          "logged": 1599694576263
        }
      }
    },
    {
      "cell_type": "markdown",
      "source": [
        "## Crear un recurso de Cognitive Services\r\n",
        "\r\n",
        "Para analizar el texto en estas reseñas, puede usar el servicio **Text Analytics**, de Cognitive Services. Para ello, debe aprovisionar un recurso de **Text Analytics** o de **Cognitive Services** en su suscripción de Azure (utilice un recurso de Text Analytics si es el único servicio que piensa usar o si quiere supervisar su uso de forma independiente. Si no es así, puede usar un recurso de Cognitive Services para combinar el servicio Text Analytics y otros servicios, lo que permite que los desarrolladores utilicen un mismo punto de conexión y clave para acceder a los recursos).\r\n",
        "\r\n",
        "Si no tiene uno, siga estos pasos para crear un recurso de **Cognitive Services** en su suscripción de Azure:\r\n",
        "\r\n",
        "> **Nota**: Si ya tiene un recurso de Cognitive Services, abra su página de **Inicio rápido** en Azure Portal y copie la clave y el punto de conexión en la siguiente celda. En caso contrario, siga estos pasos para crear uno.\r\n",
        "\r\n",
        "1. En la pestaña de otro explorador, abra Azure Portal (https://portal.azure.com) e inicie sesión con su cuenta de Microsoft.\r\n",
        "2. Haga clic en el botón **&#65291;Crear un recurso**, busque *Cognitive Services* y cree un recurso de **Cognitive Services** con esta configuración:\r\n",
        "    - **Suscripción**: *su suscripción de Azure*.\r\n",
        "    - **Grupo de recursos**: *seleccione o cree un grupo de recursos con un nombre único.*\r\n",
        "    - **Región**: *seleccione cualquier región disponible*:\r\n",
        "    - **Nombre**: *escriba un nombre único*.\r\n",
        "    - **Plan de tarifa**: S0\r\n",
        "    - **Confirmo que he leído y comprendido las notificaciones**: seleccionado.\r\n",
        "3. Espere a que la implementación finalice. Vaya al recurso de Cognitive Services y, en la página **Información general**, haga clic en el vínculo para administrar las claves del servicio. Necesitará el punto de conexión y las claves para conectarse a su recurso de Cognitive Services desde aplicaciones de cliente.\r\n",
        "\r\n",
        "### Obtener la clave y el punto de conexión de un recurso de Cognitive Services\r\n",
        "\r\n",
        "Para usar su recurso de Cognitive Services, las aplicaciones de cliente necesitan su clave de autenticación y su punto de conexión:\r\n",
        "\r\n",
        "1. En Azure Portal, en la página **Claves y punto de conexión** de su recurso de Cognitive Services, copie la **Key1** de su recurso y péguela en el siguiente código, en sustitución de **YOUR_COG_KEY**.\r\n",
        "2. Copie el **Punto de conexión** de su recurso y péguelo en el siguiente código, en sustitución de **YOUR_COG_ENDPOINT**.\r\n",
        "3. Haga clic en el botón verde <span style=\"color:green\">&#9655;</span> para ejecutar el código de la siguiente celda."
      ],
      "metadata": {}
    },
    {
      "cell_type": "code",
      "source": [
        "cog_key = 'YOUR_COG_KEY'\n",
        "cog_endpoint = 'YOUR_COG_ENDPOINT'\n",
        "\n",
        "print('Ready to use cognitive services at {} using key {}'.format(cog_endpoint, cog_key))"
      ],
      "outputs": [],
      "execution_count": null,
      "metadata": {
        "gather": {
          "logged": 1599694661070
        }
      }
    },
    {
      "cell_type": "markdown",
      "source": [
        "## Detectar idioma\r\n",
        "Empezaremos por identificar el idioma en el que se han escrito las reseñas."
      ],
      "metadata": {}
    },
    {
      "cell_type": "code",
      "source": [
        "import os\n",
        "from azure.cognitiveservices.language.textanalytics import TextAnalyticsClient\n",
        "from msrest.authentication import CognitiveServicesCredentials\n",
        "\n",
        "# Obtener un cliente para el recurso Text Analytics de Cognitive Services\r\n",
        "text_analytics_client = TextAnalyticsClient(endpoint=cog_endpoint,\n",
        "                                            credentials=CognitiveServicesCredentials(cog_key))\n",
        "\n",
        "# Analizar las reseñas de la carpeta /data/reviews que ya ha leído\r\n",
        "language_analysis = text_analytics_client.detect_language(documents=reviews)\n",
        "\n",
        "# Imprimir los detalles de detección de idioma de cada reseña\r\n",
        "for review_num in range(len(reviews)):\n",
        "    # imprima el id. de reseña\n",
        "    print(reviews[review_num]['id'])\n",
        "\n",
        "    # Obtenga los detalles de idioma para esta reseña\n",
        "    lang = language_analysis.documents[review_num].detected_languages[0]\n",
        "    print(' - Language: {}\\n - Code: {}\\n - Score: {}\\n'.format(lang.name, lang.iso6391_name, lang.score))\n",
        "\n",
        "    # Agregue el código de idioma detectado para la colección de reseñas (para mayor análisis)\n",
        "    reviews[review_num][\"language\"] = lang.iso6391_name"
      ],
      "outputs": [],
      "execution_count": null,
      "metadata": {
        "gather": {
          "logged": 1599694675019
        }
      }
    },
    {
      "cell_type": "markdown",
      "source": [
        "## Extraer frases clave\r\n",
        "\r\n",
        "Ahora, puede analizar el texto de las reseñas de clientes para identificar frases clave que incluyan información sobre los puntos clave."
      ],
      "metadata": {}
    },
    {
      "cell_type": "code",
      "source": [
        "# # Usar el cliente y las reseñas creadas en la celda de código anterior para obtener frases clave\r\n",
        "key_phrase_analysis = text_analytics_client.key_phrases(documents=reviews)\n",
        "\n",
        "# Imprimir las frases clave de cada reseña\r\n",
        "for review_num in range(len(reviews)):\n",
        "    # imprima el id. de reseña\n",
        "    print(reviews[review_num]['id'])\n",
        "\n",
        "    # Obtenga las frases clave de esta reseña\n",
        "    print('\\nKey Phrases:')\n",
        "    key_phrases = key_phrase_analysis.documents[review_num].key_phrases\n",
        "    # Imprima cada frase clave\n",
        "    for key_phrase in key_phrases:\n",
        "        print('\\t', key_phrase)\n",
        "    print('\\n')"
      ],
      "outputs": [],
      "execution_count": null,
      "metadata": {
        "gather": {
          "logged": 1599694682067
        }
      }
    },
    {
      "cell_type": "markdown",
      "source": [
        "Las frases clave pueden ayudar a comprender mejor los puntos clave de cada reseña. Por ejemplo, una reseña que contenga la frase “buen personal” o “mal servicio” puede otorgar información sobre la experiencia del cliente.\r\n",
        "\r\n",
        "## Determinar la opinión\r\n",
        "\r\n",
        "Puede ser útil clasificar las reseñas como *positivas* o *negativas* mediante una *puntuación de opinión*. Para ello puede usar el servicio Text Analytics."
      ],
      "metadata": {}
    },
    {
      "cell_type": "code",
      "source": [
        "# Utilizar el cliente y las reseñas creadas para obtener puntuaciones de opiniones\r\n",
        "sentiment_analysis = text_analytics_client.sentiment(documents=reviews)\n",
        "\n",
        "# Imprimir los resultados de cada reseña\r\n",
        "for review_num in range(len(reviews)):\n",
        "\n",
        "    # Obtenga la puntuación de opinión para esta reseña\n",
        "    sentiment_score = sentiment_analysis.documents[review_num].score\n",
        "\n",
        "    # Clasifique como 'positiva' si es más de 0,5, \n",
        "    if sentiment_score < 0.5:\n",
        "        sentiment = 'negative'\n",
        "    else:\n",
        "        sentiment = 'positive'\n",
        "\n",
        "    # imprima el nombre de archivo y la opinión\n",
        "    print('{} : {} ({})'.format(reviews[review_num]['id'], sentiment, sentiment_score))"
      ],
      "outputs": [],
      "execution_count": null,
      "metadata": {
        "gather": {
          "logged": 1599694685535
        }
      }
    },
    {
      "cell_type": "markdown",
      "source": [
        "## Extraer entidades conocidas\r\n",
        "\r\n",
        "Las *entidades* son elementos mencionados en el texto que hacen referencia a otro tipo de elemento conocido. Por ejemplo: una ubicación, una persona o una fecha. Si estuviera interesado en conocer las fechas y lugares mencionados en las reseñas podría usar el siguiente código para encontrarlos."
      ],
      "metadata": {}
    },
    {
      "cell_type": "code",
      "source": [
        "# Use el cliente y las reseñas creadas para obtener entidades con nombre\r\n",
        "entity_analysis = text_analytics_client.entities(documents=reviews)\n",
        "\n",
        "# Imprimir los resultados de cada reseña\r\n",
        "for review_num in range(len(reviews)):\n",
        "    print(reviews[review_num]['id'])\n",
        "    # Obtenga las entidades con nombre de esta reseña\n",
        "    entities = entity_analysis.documents[review_num].entities\n",
        "    for entity in entities:\n",
        "        # Solo obtenga las entidades de ubicación\n",
        "        if entity.type in ['DateTime','Location']:\n",
        "            link = '(' + entity.wikipedia_url + ')' if entity.wikipedia_id is not None else ''\n",
        "            print(' - {}: {} {}'.format(entity.type, entity.name, link))"
      ],
      "outputs": [],
      "execution_count": null,
      "metadata": {
        "gather": {
          "logged": 1599694688496
        }
      }
    },
    {
      "cell_type": "markdown",
      "source": [
        "Tenga en cuenta que algunas entidades son lo suficientemente conocidas como para tener una página de Wikipedia. En estos casos, el servicio Text Analytics devuelve la URL de esa página.\r\n",
        "\r\n",
        "## Más información\r\n",
        "\r\n",
        "Para obtener más información sobre el servicio Text Analytics, consulte la [documentación del servicio Text Analytics](https://docs.microsoft.com/azure/cognitive-services/text-analytics/)"
      ],
      "metadata": {}
    }
  ],
  "metadata": {
    "language_info": {
      "name": "python",
      "version": "3.6.9",
      "mimetype": "text/x-python",
      "codemirror_mode": {
        "name": "ipython",
        "version": 3
      },
      "pygments_lexer": "ipython3",
      "nbconvert_exporter": "python",
      "file_extension": ".py"
    },
    "kernelspec": {
      "name": "python3-azureml",
      "language": "python",
      "display_name": "Python 3.6 - AzureML"
    },
    "kernel_info": {
      "name": "python3-azureml"
    },
    "nteract": {
      "version": "nteract-front-end@1.0.0"
    }
  },
  "nbformat": 4,
  "nbformat_minor": 2
}